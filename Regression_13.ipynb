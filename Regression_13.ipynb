{
 "cells": [
  {
   "cell_type": "code",
   "execution_count": 75,
   "metadata": {},
   "outputs": [],
   "source": [
    "import pandas as pd \n",
    "import matplotlib.pyplot as plt\n",
    "import numpy as np\n",
    "import statsmodels.api as sm\n",
    "\n",
    "df = pd.read_excel(r\"C:\\Users\\ljwil\\Desktop\\Intro STATS\\Project Stats 2\\Chapter 13\\Practice Portfolio 13 Data-3.xlsx\",sheet_name=\"Regression\")"
   ]
  },
  {
   "cell_type": "code",
   "execution_count": 76,
   "metadata": {},
   "outputs": [],
   "source": [
    "anova_regression= {\n",
    "    \"df\":[],\t\n",
    "    \"SS\":[],\n",
    "        \"MS\":[],\t\n",
    "        \"F\":[],\t\n",
    "        \"Significance F\":[]\n",
    "\n",
    "}\n",
    "df_subcolums = df[['Number of M&Ms in a bag, x_i', 'Number of Blues, y_i']]\n",
    "x_axis = df['Number of M&Ms in a bag, x_i']\n",
    "y_aix = df[ 'Number of Blues, y_i']\n",
    "\n",
    "X = sm.add_constant(df['Number of M&Ms in a bag, x_i'])\n",
    "model = sm.OLS(df['Number of Blues, y_i'], X).fit()\n",
    "\n",
    "conf_intervals = model.conf_int()"
   ]
  },
  {
   "cell_type": "code",
   "execution_count": 77,
   "metadata": {},
   "outputs": [],
   "source": [
    "# Created a custom summary with 95% confidence intervals\n",
    "custom_summary = pd.DataFrame({\n",
    "    'Coefficient': model.params,\n",
    "    'Lower 95.0%': conf_intervals[0],\n",
    "    'Upper 95.0%': conf_intervals[1]\n",
    "})"
   ]
  },
  {
   "cell_type": "code",
   "execution_count": 78,
   "metadata": {},
   "outputs": [],
   "source": [
    "summary = model.summary()\n",
    "# Extract both R and R^2\n",
    "multiple_r = model.rsquared ** 0.5\n",
    "multiple_r_squared = model.rsquared\n",
    "adjusted_r_squared = model.rsquared_adj\n",
    "residuals = model.resid\n",
    "rse = np.sqrt(np.sum(residuals**2) / (len(df) - 2))  #residual standard error (RSE)\n",
    "num_observations = model.nobs   #number of observations\n"
   ]
  },
  {
   "cell_type": "code",
   "execution_count": 79,
   "metadata": {},
   "outputs": [
    {
     "name": "stdout",
     "output_type": "stream",
     "text": [
      "Regression Stastisic Summary\n",
      "                        Regression Summary Table\n",
      "Multiple R                              0.285192\n",
      "R Square                                0.081334\n",
      "Adjusted R Square                       0.068750\n",
      "Standard Error                          1.945181\n",
      "Number of Observations                 75.000000\n"
     ]
    }
   ],
   "source": [
    "# Extract both R and R^2\n",
    "multiple_r = model.rsquared ** 0.5\n",
    "multiple_r_squared = model.rsquared\n",
    "adjusted_r_squared = model.rsquared_adj\n",
    "residuals = model.resid\n",
    "rse = np.sqrt(np.sum(residuals**2) / (len(df) - 2))  #residual standard error (RSE)\n",
    "num_observations = model.nobs   #number of observations\n",
    "\n",
    "Regression_Summary = {\n",
    "    \"Multiple R\":[multiple_r],\n",
    "\"R Square\":[multiple_r_squared],\n",
    "\"Adjusted R Square\":[adjusted_r_squared],\n",
    "\"Standard Error\":[rse],\n",
    "\"Number of Observations\":[num_observations]\n",
    "}\n",
    "Regression_Summary_df = pd.DataFrame(Regression_Summary).transpose()\n",
    "label_regression =  [\"Regression Summary Table\"]\n",
    "Regression_Summary_df.columns = label_regression\n",
    "print(\"Regression Stastisic Summary\")\n",
    "print(Regression_Summary_df)"
   ]
  },
  {
   "cell_type": "code",
   "execution_count": 80,
   "metadata": {},
   "outputs": [
    {
     "name": "stdout",
     "output_type": "stream",
     "text": [
      "Anova Summary\n",
      "            df          SS         MS         F  Significance F\n",
      "Regression   1   24.454522  24.454522  6.463076        0.013135\n",
      "Residual    73  276.212145   3.783728       NaN             NaN\n",
      "Total       74  300.666667        NaN       NaN             NaN\n"
     ]
    }
   ],
   "source": [
    "#Regression section\n",
    "y_mean = df['Number of Blues, y_i'].mean()\n",
    "predicted_values = model.predict(X)\n",
    "ssr = np.sum((predicted_values - y_mean)**2)\n",
    "df_regression = len(model.params) - 1\n",
    "msr = ssr / df_regression\n",
    "f_statistic = model.fvalue\n",
    "f_signficant = model.f_pvalue\n",
    "anova_regression['df'].append(df_regression)\n",
    "anova_regression['SS'].append(ssr)\n",
    "anova_regression['MS'].append(msr)\n",
    "anova_regression['F'].append(f_statistic)\n",
    "anova_regression['Significance F'].append(f_signficant)\n",
    "#Resduual section\n",
    "sse = np.sum(residuals**2)\n",
    "mse = sse / (len(df) - len(model.params))\n",
    "df_residual = len(df) - len(model.params)\n",
    "anova_regression['df'].append(df_residual)\n",
    "anova_regression['SS'].append(sse)\n",
    "anova_regression['MS'].append(mse)\n",
    "anova_regression['F'].append(np.nan)\n",
    "anova_regression['Significance F'].append(np.nan)\n",
    "\n",
    "\n",
    "#Total sectiion\n",
    "total_obs = df_regression+df_residual\n",
    "sst = np.sum((df['Number of Blues, y_i'] - y_mean)**2)\n",
    "anova_regression['df'].append(total_obs)\n",
    "anova_regression['SS'].append(sst)\n",
    "anova_regression['MS'].append(np.nan)\n",
    "anova_regression['F'].append(np.nan)\n",
    "anova_regression['Significance F'].append(np.nan)\n",
    "label_anova = [\"Regression\",\"Residual\",\"Total\"]\n",
    "anova_regression_df = pd.DataFrame(anova_regression,index=label_anova)\n",
    "print(\"Anova Summary\")\n",
    "print(anova_regression_df)"
   ]
  },
  {
   "cell_type": "code",
   "execution_count": 81,
   "metadata": {},
   "outputs": [
    {
     "name": "stdout",
     "output_type": "stream",
     "text": [
      "Table of Coefficient\n",
      "                              Coefficient  Standard Error    t Stat   P-value  \\\n",
      "Intercept                        6.562461        1.393298  4.710019  0.000012   \n",
      "Number of M&Ms in a bag, x_i    -0.240536        0.094615 -2.542258  0.013135   \n",
      "\n",
      "                              Lower 95%  Upper 95%  Lower 95.0%  Upper 95.0%  \n",
      "Intercept                      3.785622   9.339299     9.339299     3.785622  \n",
      "Number of M&Ms in a bag, x_i  -0.429104  -0.051968    -0.051968    -0.429104  \n"
     ]
    }
   ],
   "source": [
    "intercept_table = model.summary2().tables[1]\n",
    "\n",
    "intercept_table_df =pd.DataFrame(intercept_table)\n",
    "coef_table = model.summary2().tables[1]\n",
    "\n",
    "ci_table = model.conf_int().loc['const'].to_frame().rename_axis('95% Confidence Interval', axis=1)\n",
    "\n",
    "coef_table = model.conf_int(alpha=0.05)\n",
    "# Add the coefficient values to the table\n",
    "coef_table['Coefficient'] = model.params\n",
    "\n",
    "#intercept_table['Lower 95.0%'] = [ci_table.iloc[0][0],coef_table.iloc[1][0]]\n",
    "#intercept_table['Upper 95.0%'] = [ci_table.iloc[1][0],coef_table.iloc[1][1]]\n",
    "# keep these for reference \n",
    "intercept_table['Upper 95.0%'] = [ci_table.iloc[1].iloc[0], coef_table.iloc[1].iloc[1]]\n",
    "intercept_table['Lower 95.0%'] = [ci_table.iloc[0].iloc[0], coef_table.iloc[1].iloc[0]]\n",
    "intercept_table.columns = [\"Coefficient\",\"Standard Error\",\t\"t Stat\",\t\"P-value\",\t\"Lower 95%\",\t\"Upper 95%\",\t\"Lower 95.0%\",\t\"Upper 95.0%\"]\n",
    "intercept_table.index = [\"Intercept\",\"Number of M&Ms in a bag, x_i\"]\n",
    "print(\"Table of Coefficient\")\n",
    "print(intercept_table)"
   ]
  },
  {
   "cell_type": "code",
   "execution_count": 82,
   "metadata": {},
   "outputs": [
    {
     "name": "stderr",
     "output_type": "stream",
     "text": [
      "C:\\Users\\ljwil\\AppData\\Local\\Temp\\ipykernel_1788\\2594100936.py:6: FutureWarning: Series.__getitem__ treating keys as positions is deprecated. In a future version, integer keys will always be treated as labels (consistent with DataFrame behavior). To access a value by position, use `ser.iloc[pos]`\n",
      "  equation = f'Y = {model.params[0]:.2f} + {model.params[1]:.4f}X\\nR-squared = {multiple_r_squared:.4f}'\n"
     ]
    },
    {
     "data": {
      "image/png": "[encoded data removed]",
      "text/plain": [
       "<Figure size 640x480 with 1 Axes>"
      ]
     },
     "metadata": {},
     "output_type": "display_data"
    }
   ],
   "source": [
    "#Making Scatter plot with regression line\n",
    "plt.scatter(x_axis, y_aix, label='Data Points')\n",
    "\n",
    "# Plot the regression line\n",
    "plt.plot(x_axis, model.predict(X), color='red', label='Regression Line')\n",
    "equation = f'Y = {model.params[0]:.2f} + {model.params[1]:.4f}X\\nR-squared = {multiple_r_squared:.4f}'\n",
    "plt.annotate(equation, xy=(0.75, .5), xycoords='axes fraction', ha='center', fontsize=10)\n",
    "\n",
    "# Set labels and title\n",
    "plt.xlabel('Number of M&Ms in a bag, x_i')\n",
    "plt.ylabel( 'Number of Blues, y_i')\n",
    "plt.show()"
   ]
  },
  {
   "cell_type": "code",
   "execution_count": null,
   "metadata": {},
   "outputs": [],
   "source": [
    "#From the scatter plot there seems to be a negative relationship between the Number of MnMs and Number of Blue MnMs\n",
    "#From this I think that the more MnMs are in a bag the less Blue Mnms would be present"
   ]
  }
 ],
 "metadata": {
  "kernelspec": {
   "display_name": "Python 3",
   "language": "python",
   "name": "python3"
  },
  "language_info": {
   "codemirror_mode": {
    "name": "ipython",
    "version": 3
   },
   "file_extension": ".py",
   "mimetype": "text/x-python",
   "name": "python",
   "nbconvert_exporter": "python",
   "pygments_lexer": "ipython3",
   "version": "3.10.7"
  }
 },
 "nbformat": 4,
 "nbformat_minor": 2
}
