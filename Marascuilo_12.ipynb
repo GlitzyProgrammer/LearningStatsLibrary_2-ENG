{
 "cells": [
  {
   "cell_type": "code",
   "execution_count": 54,
   "metadata": {},
   "outputs": [],
   "source": [
    "import pandas as pd \n",
    "import matplotlib.pyplot as plt\n",
    "import numpy as np\n",
    "import math\n",
    "from scipy.stats import chisquare\n",
    "from scipy.stats import chi2\n",
    "pd.set_option('display.float_format', lambda x: '%.6f' % x)\n",
    "\n",
    "df = pd.read_excel(r\"C:\\Users\\ljwil\\Desktop\\Intro STATS\\Project Stats 2\\Chapter 12\\Practice Portfolio 12_data.xlsx\",sheet_name=\"Practice Portfolio 12_data\")\n",
    "df[\"Christmas Season\"] = pd.read_excel(r\"C:\\Users\\ljwil\\Desktop\\Intro STATS\\Project Stats 2\\Chapter 12\\Practice Portfolio 12_data.xlsx\",usecols=[\"Christmas Season\"])\n",
    "df[\"Winter attitudes\"]= pd.read_excel(r\"C:\\Users\\ljwil\\Desktop\\Intro STATS\\Project Stats 2\\Chapter 12\\Practice Portfolio 12_data.xlsx\",usecols=[\"Winter attitudes\"])\n"
   ]
  },
  {
   "cell_type": "code",
   "execution_count": 55,
   "metadata": {},
   "outputs": [
    {
     "name": "stdout",
     "output_type": "stream",
     "text": [
      "Cross tab of Winter attitudes and Chrismas Season takes\n",
      "Christmas Season  After  Before  Grand Total\n",
      "Winter attitudes                            \n",
      "Hate                  5       1            6\n",
      "Love                  4       7           11\n",
      "Meh                  11       2           13\n",
      "Grand Total          20      10           30\n"
     ]
    }
   ],
   "source": [
    "cross_tab = pd.crosstab(df['Winter attitudes'], df['Christmas Season'], margins=True, margins_name='Grand Total')\n",
    "print(\"Cross tab of Winter attitudes and Chrismas Season takes\")\n",
    "print(cross_tab)"
   ]
  },
  {
   "cell_type": "code",
   "execution_count": 56,
   "metadata": {},
   "outputs": [
    {
     "name": "stdout",
     "output_type": "stream",
     "text": [
      "\n",
      "Expected Contingency Table:\n",
      "Christmas Season    After   Before\n",
      "Winter attitudes                  \n",
      "Hate             4.000000 2.000000\n",
      "Love             7.333333 3.666667\n",
      "Meh              8.666667 4.333333\n"
     ]
    }
   ],
   "source": [
    "observed_contingency = pd.crosstab(df['Winter attitudes'], df['Christmas Season'], margins=True, margins_name='Grand Total')\n",
    "observed_chisquare_use = pd.crosstab(df['Winter attitudes'], df['Christmas Season'])\n",
    "\n",
    "# Calculate the expected contingency table\n",
    "row_totals = observed_contingency.iloc[:-1, -1]\n",
    "col_totals = observed_contingency.iloc[-1, :-1]\n",
    "grand_total = observed_contingency.iloc[-1, -1]\n",
    "\n",
    "expected_contingency = np.outer(row_totals, col_totals) / grand_total\n",
    "# Create a DataFrame for the expected contingency table\n",
    "expected_contingency_df = pd.DataFrame(expected_contingency, index=row_totals.index, columns=col_totals.index)\n",
    "print(\"\\nExpected Contingency Table:\")\n",
    "print(expected_contingency_df)"
   ]
  },
  {
   "cell_type": "code",
   "execution_count": 57,
   "metadata": {},
   "outputs": [],
   "source": [
    "L1 = ['Hate','Love','Meh']\n",
    "L2 = ['After','Before']\n",
    "manual_chisquare = {\n",
    "    \"Winter Attitudes\":[],\n",
    "    \"Christmas Season Op\":[],\n",
    "     \"Observed Frequency, f_ij\":[],\n",
    "     \"Expected Frequencey, e_ij\":[],\n",
    "      \"f_ij-e_ij\":[],\n",
    "      \"(f_ij-e_ij)^2\":[],\n",
    "      \"(f_ij-e_ij)^2/e_ij\":[]\n",
    "}\n",
    "\n",
    "#This takes the  information in L1 and L2 an populates the dictionary manual_chisquare\n",
    "#This also pulls from the expected and observed contingency tables to make the caluations to build up to the Chi-Square value\n",
    "for i in L1:\n",
    "    for j in L2:\n",
    "        manual_chisquare['Winter Attitudes'].append(i)\n",
    "        manual_chisquare['Christmas Season Op'].append(j)\n",
    "        cell_value_eij = expected_contingency_df.loc[i,j]\n",
    "        cell_value_fij = observed_contingency.loc[i,j]\n",
    "        manual_chisquare[\"Expected Frequencey, e_ij\"].append(cell_value_eij) \n",
    "        manual_chisquare[\"Observed Frequency, f_ij\"].append(cell_value_fij) \n",
    "        fijsubeij = cell_value_fij- cell_value_eij\n",
    "        manual_chisquare['f_ij-e_ij'].append(fijsubeij)\n",
    "        fsubesqr = fijsubeij ** 2 \n",
    "        manual_chisquare['(f_ij-e_ij)^2'].append(fsubesqr)\n",
    "        fsubesqr_eij = fsubesqr/ cell_value_eij\n",
    "        manual_chisquare['(f_ij-e_ij)^2/e_ij'].append(fsubesqr_eij) \n"
   ]
  },
  {
   "cell_type": "code",
   "execution_count": 58,
   "metadata": {},
   "outputs": [
    {
     "name": "stdout",
     "output_type": "stream",
     "text": [
      "This is the table used for Manual Chi Caluations\n",
      "\n",
      "  Winter Attitudes Christmas Season Op  Observed Frequency, f_ij  \\\n",
      "0             Hate               After                         5   \n",
      "1             Hate              Before                         1   \n",
      "2             Love               After                         4   \n",
      "3             Love              Before                         7   \n",
      "4              Meh               After                        11   \n",
      "5              Meh              Before                         2   \n",
      "\n",
      "   Expected Frequencey, e_ij  f_ij-e_ij  (f_ij-e_ij)^2  (f_ij-e_ij)^2/e_ij  \n",
      "0                   4.000000   1.000000       1.000000            0.250000  \n",
      "1                   2.000000  -1.000000       1.000000            0.500000  \n",
      "2                   7.333333  -3.333333      11.111111            1.515152  \n",
      "3                   3.666667   3.333333      11.111111            3.030303  \n",
      "4                   8.666667   2.333333       5.444444            0.628205  \n",
      "5                   4.333333  -2.333333       5.444444            1.256410  \n"
     ]
    }
   ],
   "source": [
    "man_chi = pd.DataFrame(manual_chisquare)\n",
    "print(\"This is the table used for Manual Chi Caluations\\n\")\n",
    "print(man_chi)"
   ]
  },
  {
   "cell_type": "code",
   "execution_count": 59,
   "metadata": {},
   "outputs": [
    {
     "name": "stdout",
     "output_type": "stream",
     "text": [
      "Chi Square Value 7.1800699\n",
      "Total Expeceted 30\n",
      "Total Observed 30\n",
      "This is the manually calulated chi_square for 7 signifcant digits 7.1800699 \n",
      "\n"
     ]
    }
   ],
   "source": [
    "#This totals up the values from the man_chi data frame to get the chi_square value and the total observed and expected\n",
    "chi_square_value = 0 \n",
    "total_expected = 0\n",
    "total_observed = 0 \n",
    "for i in manual_chisquare[\"(f_ij-e_ij)^2/e_ij\"]:\n",
    "    chi_square_value+= i\n",
    "print(\"Chi Square Value\", round(chi_square_value,7 ))\n",
    "for i in manual_chisquare[\"Expected Frequencey, e_ij\"]:\n",
    "    total_expected += i\n",
    "print(\"Total Expeceted\", math.ceil(total_expected))\n",
    "\n",
    "for i in manual_chisquare['Observed Frequency, f_ij']:\n",
    "    total_observed += i\n",
    "print(\"Total Observed\", total_observed)\n",
    "chi_square_value = round(chi_square_value,7 )\n",
    "print(\"This is the manually calulated chi_square for 7 signifcant digits\",chi_square_value,\"\\n\")"
   ]
  },
  {
   "cell_type": "code",
   "execution_count": 60,
   "metadata": {},
   "outputs": [
    {
     "name": "stdout",
     "output_type": "stream",
     "text": [
      "Chi squre value using python and p value\n",
      "This is what I got using the keeping 7 signifcant digits scipy.stats package 7.1800699\n",
      "This is what I got form manually calulating the chi-value 7.1800699\n",
      "This is the p value I got from using the scipy stats package 0.027597365878456515 \n",
      "\n"
     ]
    }
   ],
   "source": [
    "chi2_stat, p_value = chisquare(f_obs=observed_chisquare_use, f_exp=expected_contingency_df)\n",
    "print(\"Chi squre value using python and p value\")\n",
    "p_value = 1 - chi2.cdf(chi_square_value, 2)  #2 represents the number of categories - 1\n",
    "auto_chi = chi2_stat[0]+chi2_stat[1]\n",
    "auto_chi = round(auto_chi,7)\n",
    "print(f\"This is what I got using the keeping 7 signifcant digits scipy.stats package {auto_chi}\\nThis is what I got form manually calulating the chi-value {chi_square_value}\")\n",
    "print(\"This is the p value I got from using the scipy stats package\", p_value,\"\\n\")    \n",
    "\n"
   ]
  },
  {
   "cell_type": "code",
   "execution_count": 61,
   "metadata": {},
   "outputs": [
    {
     "name": "stdout",
     "output_type": "stream",
     "text": [
      "Performing the Marascuilo Multiple Comparisons Procedure\n",
      "\n",
      "Using 0.95 as the probability and setting degrees of freedom to 2 to calulate the critical value we find it to be\n",
      "5.991464547 with in 7 signficant digits\n"
     ]
    }
   ],
   "source": [
    "print(\"Performing the Marascuilo Multiple Comparisons Procedure\\n\")\n",
    "pair_wise= {\n",
    "    \"ABS |pi_bar-pj_bar|\": [],\n",
    "     \"CV_ij\":[],\n",
    "     \"Null Hypothesis\":[np.nan,np.nan,np.nan]\n",
    "}\n",
    "p1_bar = observed_contingency.loc['Love','After']/ observed_contingency.loc['Love','Grand Total']\n",
    "p2_bar = observed_contingency.loc['Meh','After']/ observed_contingency.loc['Meh','Grand Total']\n",
    "p3_bar = observed_contingency.loc['Hate','After']/ observed_contingency.loc['Hate','Grand Total']\n",
    "\n",
    "critical_value = round(chi2.ppf(0.95, 2),9)   #use for CV_ij\n",
    "print(f\"Using 0.95 as the probability and setting degrees of freedom to 2 to calulate the critical value we find it to be\\n{critical_value} with in 7 signficant digits\")\n",
    "#This does ABS |pi_bar-pj_bar| \n",
    "p1_p2 =  abs(p1_bar-p2_bar)\n",
    "p1_p3 =  abs(p1_bar-p3_bar)\n",
    "p2_p3 =  abs(p2_bar-p3_bar)\n",
    "\n",
    "\n",
    "# this takes care of the  p_ibar(1-p_ibar)/n_i for each of the  p_bars found before\n",
    "p1 = round((p1_bar*(1-p1_bar))/ observed_contingency.loc[\"Love\",\"Grand Total\"],7)\n",
    "p2 = round((p2_bar*(1-p2_bar))/ observed_contingency.loc[\"Meh\",\"Grand Total\"],7)\n",
    "p3 = round((p3_bar*(1-p3_bar))/ observed_contingency.loc[\"Hate\",\"Grand Total\"],7)\n",
    "\n",
    "# this combines values gathered from the previous step in a pairwise fashion\n",
    "p1vp2 = round(p1+p2,7)\n",
    "p1vp3 = round(p1+p3,7)\n",
    "p2vp3 = round(p2+p3,7)\n",
    "\n",
    "\n",
    "# The Critical Values for each of the pair-wise comparisons \n",
    "Cv_1 =  round(math.sqrt(critical_value) * math.sqrt(p1vp2),9)\n",
    "Cv_2 =  round(math.sqrt(critical_value) * math.sqrt(p1vp3),9)\n",
    "Cv_3 = round(math.sqrt(critical_value) * math.sqrt(p2vp3),9)\n",
    "\n",
    "\n",
    "pair_wise[\"ABS |pi_bar-pj_bar|\"].append(abs(p1_p2))\n",
    "pair_wise[\"ABS |pi_bar-pj_bar|\"].append(abs(p1_p3))\n",
    "pair_wise[\"ABS |pi_bar-pj_bar|\"].append(abs(p2_p3))\n",
    "\n",
    "pair_wise[\"CV_ij\"].append(Cv_1)\n",
    "pair_wise[\"CV_ij\"].append(Cv_2)\n",
    "pair_wise[\"CV_ij\"].append(Cv_3)\n"
   ]
  },
  {
   "cell_type": "code",
   "execution_count": 62,
   "metadata": {},
   "outputs": [
    {
     "name": "stdout",
     "output_type": "stream",
     "text": [
      "                      ABS |pi_bar-pj_bar|    CV_ij     Null Hypothesis\n",
      "Pairwise Comparision                                                  \n",
      "p1_bar vs p2_bar                 0.482517 0.431321         Reject Null\n",
      "p1_bar vs p3_bar                 0.469697 0.514521  Do not Reject Null\n",
      "p2_bar vs p2_bar                 0.012821 0.445744  Do not Reject Null\n"
     ]
    }
   ],
   "source": [
    "#Creates dataframe\n",
    "list_label =[\"p1_bar vs p2_bar\",\"p1_bar vs p3_bar\",\"p2_bar vs p2_bar\"]\n",
    "p_wise = pd.DataFrame(pair_wise)\n",
    "p_wise = p_wise.set_index(pd.Index(list_label))\n",
    "p_wise.index.name = 'Pairwise Comparision'\n",
    "p_wise[\"Null Hypothesis\"] = p_wise[\"Null Hypothesis\"].astype('object')\n",
    "\n",
    "#It iterates through the index of the p_wise dataframe and pulls from the rows \n",
    "#\"ABS |pi_bar-pj_bar|\" and \"CV_ij\"\n",
    "for index, row in p_wise.iterrows():\n",
    "    if row[\"ABS |pi_bar-pj_bar|\"] > row[\"CV_ij\"]:\n",
    "        p_wise.at[index, \"Null Hypothesis\"] = 'Reject Null'\n",
    "    else:\n",
    "        p_wise.at[index, \"Null Hypothesis\"] = 'Do not Reject Null'\n",
    "\n",
    "\n",
    "print(p_wise)"
   ]
  },
  {
   "cell_type": "code",
   "execution_count": 63,
   "metadata": {},
   "outputs": [
    {
     "name": "stdout",
     "output_type": "stream",
     "text": [
      "A Chi-Square Test of Independence was performed to examine the relation between students' belief\n",
      "that Christmas starts after Thanksgiving and their attitudes toward the Winter season.\n",
      "The relation between these variables was significant,  (2,N = 30) = 7.18 p = 0.028\n",
      "The Marascuilo Pairwise Comparison Procedure showed that students who are 'meh' about Winter are\n",
      "more likely to think Christmas starts after Thanksgiving compared to students who Love Winter.\n"
     ]
    }
   ],
   "source": [
    "print(\"A Chi-Square Test of Independence was performed to examine the relation between students' belief\\nthat Christmas starts after Thanksgiving and their attitudes toward the Winter season.\")\n",
    "print(f\"The relation between these variables was significant,  (2,N = {total_observed}) = {round(chi_square_value,2)} p = {round(p_value,3)}\")\n",
    "print(\"The Marascuilo Pairwise Comparison Procedure showed that students who are 'meh' about Winter are\\nmore likely to think Christmas starts after Thanksgiving compared to students who Love Winter.\")\n"
   ]
  }
 ],
 "metadata": {
  "kernelspec": {
   "display_name": "Python 3",
   "language": "python",
   "name": "python3"
  },
  "language_info": {
   "codemirror_mode": {
    "name": "ipython",
    "version": 3
   },
   "file_extension": ".py",
   "mimetype": "text/x-python",
   "name": "python",
   "nbconvert_exporter": "python",
   "pygments_lexer": "ipython3",
   "version": "3.10.7"
  }
 },
 "nbformat": 4,
 "nbformat_minor": 2
}
